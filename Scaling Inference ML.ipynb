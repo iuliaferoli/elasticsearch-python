{
 "cells": [
  {
   "cell_type": "code",
   "execution_count": 2,
   "metadata": {},
   "outputs": [
    {
     "name": "stderr",
     "output_type": "stream",
     "text": [
      "/var/folders/k3/sm4kh0y91fs5_fft4375wwh00000gn/T/ipykernel_81533/2551640357.py:2: DeprecationWarning: Importing from the 'elasticsearch.client' module is deprecated. Instead use 'elasticsearch' module for importing the client.\n",
      "  from elasticsearch.client import MlClient\n"
     ]
    }
   ],
   "source": [
    "from elasticsearch import Elasticsearch\n",
    "from elasticsearch.client import MlClient\n",
    "from getpass import getpass\n",
    "\n",
    "#Connect to the elastic cloud server\n",
    "ELASTIC_CLOUD_ID = getpass(\"Elastic Cloud ID: \")\n",
    "ELASTIC_API_KEY = getpass(\"Elastic API Key: \")\n",
    "\n",
    "# Create an Elasticsearch client using the provided credentials\n",
    "es = Elasticsearch(\n",
    "    cloud_id=ELASTIC_CLOUD_ID,  # cloud id can be found under deployment management\n",
    "    api_key=ELASTIC_API_KEY, # your username and password for connecting to elastic, found under Deplouments - Security\n",
    ")"
   ]
  },
  {
   "cell_type": "code",
   "execution_count": 3,
   "metadata": {},
   "outputs": [],
   "source": [
    "import os\n",
    "\n",
    "index_name = \"newsgroup\"\n",
    "model_id = \"elastic/distilbert-base-cased-finetuned-conll03-english\"\n",
    "\n",
    "os.environ['ELASTIC_CLOUD_ID'] = ELASTIC_CLOUD_ID\n",
    "os.environ['ELASTIC_API_KEY'] = ELASTIC_API_KEY\n",
    "os.environ['MODEL_ID'] = model_id"
   ]
  },
  {
   "cell_type": "code",
   "execution_count": 19,
   "metadata": {},
   "outputs": [
    {
     "name": "stdout",
     "output_type": "stream",
     "text": [
      "2024-03-20 10:37:46,734 INFO : Establishing connection to Elasticsearch\n",
      "2024-03-20 10:37:46,819 INFO : Connected to cluster named 'fdcc4e10e5a34385884a3eda9350099a' (version: 8.9.0)\n",
      "2024-03-20 10:37:46,821 INFO : Loading HuggingFace transformer tokenizer and model 'elastic/distilbert-base-cased-finetuned-conll03-english'\n",
      "Downloading tokenizer_config.json: 100%|███████| 257/257 [00:00<00:00, 20.0kB/s]\n",
      "Downloading config.json: 100%|██████████████████| 954/954 [00:00<00:00, 112kB/s]\n",
      "Downloading vocab.txt: 100%|█████████████████| 213k/213k [00:00<00:00, 5.58MB/s]\n",
      "Downloading (…)cial_tokens_map.json: 100%|██████| 112/112 [00:00<00:00, 143kB/s]\n",
      "Downloading model.safetensors: 100%|█████████| 261M/261M [01:01<00:00, 4.25MB/s]\n",
      "Some weights of DistilBertForSequenceClassification were not initialized from the model checkpoint at elastic/distilbert-base-cased-finetuned-conll03-english and are newly initialized: ['pre_classifier.weight', 'pre_classifier.bias']\n",
      "You should probably TRAIN this model on a down-stream task to be able to use it for predictions and inference.\n",
      "/usr/local/lib/python3.9/dist-packages/transformers/models/distilbert/modeling_distilbert.py:223: TracerWarning: torch.tensor results are registered as constants in the trace. You can safely ignore this warning if you use this function to create tensors out of constant variables that would be the same every time you call this function. In any other case, this might cause the trace to be incorrect.\n",
      "  mask, torch.tensor(torch.finfo(scores.dtype).min)\n",
      "2024-03-20 10:39:30,652 INFO : Creating model with id 'elastic__distilbert-base-cased-finetuned-conll03-english'\n",
      "2024-03-20 10:39:30,723 INFO : Uploading model definition\n",
      "100%|█████████████████████████████████████| 252/252 [02:11<00:00,  1.92 parts/s]\n",
      "2024-03-20 10:41:42,033 INFO : Uploading model vocabulary\n",
      "2024-03-20 10:41:42,472 INFO : Starting model deployment\n",
      "Traceback (most recent call last):\n",
      "  File \"/usr/local/bin/eland_import_hub_model\", line 8, in <module>\n",
      "    sys.exit(main())\n",
      "  File \"/usr/local/lib/python3.9/dist-packages/eland/cli/eland_import_hub_model.py\", line 291, in main\n",
      "    ptm.start()\n",
      "  File \"/usr/local/lib/python3.9/dist-packages/eland/ml/pytorch/_pytorch_model.py\", line 147, in start\n",
      "    self._client.options(request_timeout=60).ml.start_trained_model_deployment(\n",
      "  File \"/usr/local/lib/python3.9/dist-packages/elasticsearch/_sync/client/utils.py\", line 414, in wrapped\n",
      "    return api(*args, **kwargs)\n",
      "  File \"/usr/local/lib/python3.9/dist-packages/elasticsearch/_sync/client/ml.py\", line 3791, in start_trained_model_deployment\n",
      "    return self.perform_request(  # type: ignore[return-value]\n",
      "  File \"/usr/local/lib/python3.9/dist-packages/elasticsearch/_sync/client/_base.py\", line 389, in perform_request\n",
      "    return self._client.perform_request(\n",
      "  File \"/usr/local/lib/python3.9/dist-packages/elasticsearch/_sync/client/_base.py\", line 320, in perform_request\n",
      "    raise HTTP_EXCEPTIONS.get(meta.status, ApiError)(\n",
      "elasticsearch.BadRequestError: BadRequestError(400, 'illegal_argument_exception', 'Values less than -1 bytes are not supported: -1067901600b')\n"
     ]
    }
   ],
   "source": [
    "!docker run -it --rm elastic/eland \\\n",
    "    eland_import_hub_model \\\n",
    "      --cloud-id $ELASTIC_CLOUD_ID \\\n",
    "      --es-api-key $ELASTIC_API_KEY \\\n",
    "      --hub-model-id $MODEL_ID \\\n",
    "      --task-type text_classification \\\n",
    "      --start "
   ]
  },
  {
   "cell_type": "code",
   "execution_count": 17,
   "metadata": {},
   "outputs": [
    {
     "name": "stdout",
     "output_type": "stream",
     "text": [
      "2024-03-20 11:29:19,361 ERROR : \u001b[31mFailed to run because module 'torch' is not available.\u001b[0m\n",
      "\n",
      "This script requires PyTorch extras to run. You can install these by running:\n",
      "\n",
      "    \u001b[1m/Users/iulia/python/cheat sheet/elasticsearch-python/.venv/bin/python3.11 -m pip install 'eland[pytorch]'\n",
      "\u001b[0m\n"
     ]
    }
   ],
   "source": [
    "! eland_import_hub_model --es-api-key $ELASTIC_API_KEY \\\n",
    "  --url $ELASTIC_CLOUD_ID \\\n",
    "  --hub-model-id $MODEL_ID \\\n",
    "  --task-type ner \\\n",
    "  --start"
   ]
  },
  {
   "cell_type": "code",
   "execution_count": 1,
   "metadata": {},
   "outputs": [
    {
     "ename": "NameError",
     "evalue": "name 'MlClient' is not defined",
     "output_type": "error",
     "traceback": [
      "\u001b[0;31m---------------------------------------------------------------------------\u001b[0m",
      "\u001b[0;31mNameError\u001b[0m                                 Traceback (most recent call last)",
      "Cell \u001b[0;32mIn[1], line 1\u001b[0m\n\u001b[0;32m----> 1\u001b[0m models \u001b[39m=\u001b[39m MlClient\u001b[39m.\u001b[39mget_trained_models(es)\n\u001b[1;32m      2\u001b[0m \u001b[39mfor\u001b[39;00m model \u001b[39min\u001b[39;00m models[\u001b[39m\"\u001b[39m\u001b[39mtrained_model_configs\u001b[39m\u001b[39m\"\u001b[39m]:\n\u001b[1;32m      3\u001b[0m     \u001b[39mprint\u001b[39m(model[\u001b[39m\"\u001b[39m\u001b[39mmodel_id\u001b[39m\u001b[39m\"\u001b[39m])\n",
      "\u001b[0;31mNameError\u001b[0m: name 'MlClient' is not defined"
     ]
    }
   ],
   "source": [
    "models = MlClient.get_trained_models(es)\n",
    "for model in models[\"trained_model_configs\"]:\n",
    "    print(model[\"model_id\"])"
   ]
  }
 ],
 "metadata": {
  "kernelspec": {
   "display_name": ".venv",
   "language": "python",
   "name": "python3"
  },
  "language_info": {
   "codemirror_mode": {
    "name": "ipython",
    "version": 3
   },
   "file_extension": ".py",
   "mimetype": "text/x-python",
   "name": "python",
   "nbconvert_exporter": "python",
   "pygments_lexer": "ipython3",
   "version": "3.11.4"
  },
  "orig_nbformat": 4
 },
 "nbformat": 4,
 "nbformat_minor": 2
}
