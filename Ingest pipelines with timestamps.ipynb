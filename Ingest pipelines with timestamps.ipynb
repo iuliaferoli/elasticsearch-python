{
 "cells": [
  {
   "cell_type": "markdown",
   "metadata": {},
   "source": [
    "## Adding a timestamp when you index documents"
   ]
  },
  {
   "cell_type": "markdown",
   "metadata": {},
   "source": [
    "This notebook shows how you can add custom fields and actions to run automatically when you ingest data with the Python client. \n",
    "\n",
    "You can store a timestamp each time a document in your index is modified.\n",
    "\n",
    "Using the concepts of: [the ingest pipeline](https://www.elastic.co/guide/en/elasticsearch/reference/8.12/ingest.html) and [the set processor.](https://www.elastic.co/guide/en/elasticsearch/reference/current/set-processor.html)"
   ]
  },
  {
   "cell_type": "code",
   "execution_count": 2,
   "metadata": {},
   "outputs": [],
   "source": [
    "from getpass import getpass  \n",
    "from elasticsearch import Elasticsearch\n",
    "\n",
    "# Prompt the user to enter their Elastic Cloud ID and API Key securely\n",
    "ELASTIC_CLOUD_ID = getpass(\"Elastic Cloud ID: \")\n",
    "ELASTIC_API_KEY = getpass(\"Elastic API Key: \")\n",
    "\n",
    "# Create an Elasticsearch client using the provided credentials\n",
    "client = Elasticsearch(\n",
    "    cloud_id=ELASTIC_CLOUD_ID,  # cloud id can be found under deployment management\n",
    "    api_key=ELASTIC_API_KEY, # your username and password for connecting to elastic, found under Deplouments - Security\n",
    ")"
   ]
  },
  {
   "cell_type": "markdown",
   "metadata": {},
   "source": [
    "We want to create two fields for our index to keep track of when it was created (a fixes date), and when it was last updated (new date with every change)"
   ]
  },
  {
   "cell_type": "code",
   "execution_count": 85,
   "metadata": {},
   "outputs": [
    {
     "data": {
      "text/plain": [
       "ObjectApiResponse({'acknowledged': True, 'shards_acknowledged': True, 'index': 'test_timestamp'})"
      ]
     },
     "execution_count": 85,
     "metadata": {},
     "output_type": "execute_result"
    }
   ],
   "source": [
    "index_name = \"test_timestamp\"\n",
    "\n",
    "mappings = {\n",
    "    \"properties\" : {\n",
    "        \"foo\" : {\n",
    "            \"type\" : \"keyword\",\n",
    "            \"type\" : \"text\"\n",
    "        },\n",
    "        \"created_at\": {\n",
    "            \"type\": \"date\" \n",
    "        },\n",
    "        \"updated_at\" : {\n",
    "            \"type\" : \"date\"\n",
    "        }\n",
    "    }\n",
    "}\n",
    "\n",
    "settings = {\n",
    "    \"index.default_pipeline\" : \"ingest_with_dates\"\n",
    "}\n",
    "\n",
    "client.ingest.put_pipeline(\n",
    "    id=\"ingest_with_dates\", \n",
    "    processors=[\n",
    "    {\n",
    "        \"set\": {\n",
    "            \"field\": \"updated_at\",\n",
    "            \"value\": \"{{_ingest.timestamp}}\"\n",
    "        }\n",
    "    },{\n",
    "        \"set\": {\n",
    "            \"if\" : \"ctx?.created_at == null\",\n",
    "            \"field\": \"created_at\",\n",
    "            \"value\": \"{{_ingest.timestamp}}\"\n",
    "        }\n",
    "    }]\n",
    ")\n",
    "\n",
    "\n",
    "client.indices.create(index=index_name, mappings=mappings, settings=settings)"
   ]
  },
  {
   "cell_type": "code",
   "execution_count": 90,
   "metadata": {},
   "outputs": [
    {
     "data": {
      "text/plain": [
       "ObjectApiResponse({'_index': 'test_timestamp', '_id': '0', '_version': 3, 'result': 'updated', '_shards': {'total': 2, 'successful': 1, 'failed': 0}, '_seq_no': 2, '_primary_term': 1})"
      ]
     },
     "execution_count": 90,
     "metadata": {},
     "output_type": "execute_result"
    }
   ],
   "source": [
    "client.index(\n",
    "    index=index_name,\n",
    "    id=0,\n",
    "    document={\n",
    "        \"foo\": \"bar\",\n",
    "    },\n",
    ")"
   ]
  },
  {
   "cell_type": "code",
   "execution_count": 32,
   "metadata": {},
   "outputs": [
    {
     "name": "stdout",
     "output_type": "stream",
     "text": [
      "{'updated_at': '2024-03-12T17:14:44.962992392Z', 'created_at': '2024-03-12T17:14:44.962992392Z', 'foo': 'barr'}\n"
     ]
    }
   ],
   "source": [
    "query={\n",
    "    \"match\": {\n",
    "        \"foo\": \"barr\"\n",
    "    }\n",
    "}\n",
    "\n",
    "response = client.search(index=index_name, query=query)\n",
    "for hit in response[\"hits\"][\"hits\"]:\n",
    "    print(hit['_source'])"
   ]
  },
  {
   "cell_type": "code",
   "execution_count": 94,
   "metadata": {},
   "outputs": [
    {
     "data": {
      "text/plain": [
       "ObjectApiResponse({'_index': 'test_timestamp', '_id': '1', '_version': 2, 'result': 'updated', '_shards': {'total': 2, 'successful': 1, 'failed': 0}, '_seq_no': 5, '_primary_term': 1})"
      ]
     },
     "execution_count": 97,
     "metadata": {},
     "output_type": "execute_result"
    }
   ],
   "source": [
    "client.update(index=index_name, id = 1, body={\"doc\":{\"foo\" : \"bar+\"}})"
   ]
  },
  {
   "cell_type": "code",
   "execution_count": 95,
   "metadata": {},
   "outputs": [
    {
     "name": "stdout",
     "output_type": "stream",
     "text": [
      "{'updated_at': '2024-03-12T15:52:07.044704541Z', 'created_at': '2024-03-12T15:51:39.457194217Z', 'foo': 'bar+'}\n"
     ]
    }
   ],
   "source": [
    "query={\n",
    "    \"match\": {\n",
    "        \"_id\": 0\n",
    "    }\n",
    "}\n",
    "\n",
    "response = client.search(index=index_name, query=query)\n",
    "for hit in response[\"hits\"][\"hits\"]:\n",
    "    print(hit['_source'])"
   ]
  }
 ],
 "metadata": {
  "kernelspec": {
   "display_name": ".venv",
   "language": "python",
   "name": "python3"
  },
  "language_info": {
   "codemirror_mode": {
    "name": "ipython",
    "version": 3
   },
   "file_extension": ".py",
   "mimetype": "text/x-python",
   "name": "python",
   "nbconvert_exporter": "python",
   "pygments_lexer": "ipython3",
   "version": "3.9.6"
  },
  "orig_nbformat": 4
 },
 "nbformat": 4,
 "nbformat_minor": 2
}
