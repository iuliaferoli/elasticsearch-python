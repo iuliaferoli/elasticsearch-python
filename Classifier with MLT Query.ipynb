{
 "cells": [
  {
   "cell_type": "markdown",
   "metadata": {},
   "source": [
    "## Classifier in Elasticsearch via MLT query"
   ]
  },
  {
   "cell_type": "markdown",
   "metadata": {},
   "source": [
    "You can build a simple classifier in Elasticsearch without any ML models or external imports. Using the MLT query you can categorize your documents by their similarity to other provided examples.\n",
    "\n",
    "Based on this blog: https://www.elastic.co/blog/text-classification-made-easy-with-elasticsearch \n",
    "\n",
    "MLT Query: https://www.elastic.co/guide/en/elasticsearch/reference/current/query-dsl-mlt-query.html"
   ]
  },
  {
   "cell_type": "code",
   "execution_count": 1,
   "metadata": {},
   "outputs": [
    {
     "name": "stderr",
     "output_type": "stream",
     "text": [
      "/var/folders/k3/sm4kh0y91fs5_fft4375wwh00000gn/T/ipykernel_44815/2551640357.py:2: DeprecationWarning: Importing from the 'elasticsearch.client' module is deprecated. Instead use 'elasticsearch' module for importing the client.\n",
      "  from elasticsearch.client import MlClient\n"
     ]
    }
   ],
   "source": [
    "from elasticsearch import Elasticsearch, helpers\n",
    "from getpass import getpass\n",
    "\n",
    "#Connect to the elastic cloud server\n",
    "ELASTIC_CLOUD_ID = getpass(\"Elastic Cloud ID: \")\n",
    "ELASTIC_API_KEY = getpass(\"Elastic API Key: \")\n",
    "\n",
    "# Create an Elasticsearch client using the provided credentials\n",
    "client = Elasticsearch(\n",
    "    cloud_id=ELASTIC_CLOUD_ID,  # cloud id can be found under deployment management\n",
    "    api_key=ELASTIC_API_KEY, # your username and password for connecting to elastic, found under Deplouments - Security\n",
    ")"
   ]
  },
  {
   "cell_type": "code",
   "execution_count": 40,
   "metadata": {},
   "outputs": [],
   "source": [
    "index_name = \"20_news\"\n",
    "\n",
    "mappings= {\n",
    "    \"properties\": {\n",
    "\t\t\"description\": {\n",
    "\t\t\t\"type\": \"text\",\n",
    "\t\t\t\"analyzer\":\"english\",\n",
    "\t\t\t\"fielddata\": True\n",
    "\t\t},\n",
    "\t\t\"category\": {\n",
    "\t\t\t\"type\": \"text\",\n",
    "\t\t\t\"analyzer\":\"english\",\n",
    "\t\t\t\"fields\": {\n",
    "\t\t\t\t\"keyword\": {\n",
    "\t\t\t\t\t\"type\": \"keyword\",\n",
    "\t\t\t\t\t\"ignore_above\": 512\n",
    "\t\t\t\t}\n",
    "\t\t\t}\n",
    "\t\t},\n",
    "\t\t\"name\": {\n",
    "\t\t\t\"type\": \"text\",\n",
    "\t\t\t\"analyzer\":\"english\",\n",
    "\t\t\t\"fielddata\": True\n",
    "\t\t}\n",
    "\t}\n",
    "}"
   ]
  },
  {
   "cell_type": "markdown",
   "metadata": {},
   "source": [
    "Using the 20newsgroup dataet - consisting of categorized news articles across 20 defined categories."
   ]
  },
  {
   "cell_type": "code",
   "execution_count": null,
   "metadata": {},
   "outputs": [],
   "source": [
    "from datasets import load_dataset\n",
    "\n",
    "dataset = load_dataset(\"SetFit/20_newsgroups\",)"
   ]
  },
  {
   "cell_type": "code",
   "execution_count": 68,
   "metadata": {},
   "outputs": [
    {
     "data": {
      "text/plain": [
       "{'text': 'I was wondering if anyone out there could enlighten me on this car I saw\\nthe other day. It was a 2-door sports car, looked to be from the late 60s/\\nearly 70s. It was called a Bricklin. The doors were really small. In addition,\\nthe front bumper was separate from the rest of the body. This is \\nall I know. If anyone can tellme a model name, engine specs, years\\nof production, where this car is made, history, or whatever info you\\nhave on this funky looking car, please e-mail.',\n",
       " 'label': 7,\n",
       " 'label_text': 'rec.autos'}"
      ]
     },
     "execution_count": 68,
     "metadata": {},
     "output_type": "execute_result"
    }
   ],
   "source": [
    "dataset[\"train\"][0]"
   ]
  },
  {
   "cell_type": "code",
   "execution_count": 41,
   "metadata": {},
   "outputs": [],
   "source": [
    "client.indices.create(index=index_name)\n",
    "\n",
    "def generate_docs(data, index_name):\n",
    "    for element in data:\n",
    "        element.update({\"_index\": index_name})\n",
    "        yield element\n",
    "\n",
    "load = helpers.bulk(client, generate_docs(dataset[\"train\"], index_name))"
   ]
  },
  {
   "cell_type": "markdown",
   "metadata": {},
   "source": [
    "Here are the first few documents in the index, for an idea of what our data looks like:"
   ]
  },
  {
   "cell_type": "code",
   "execution_count": 69,
   "metadata": {},
   "outputs": [
    {
     "name": "stdout",
     "output_type": "stream",
     "text": [
      "{'text': 'I was wondering if anyone out there could enlighten me on this car I saw\\nthe other day. It was a 2-door sports car, looked to be from the late 60s/\\nearly 70s. It was called a Bricklin. The doors were really small. In addition,\\nthe front bumper was separate from the rest of the body. This is \\nall I know. If anyone can tellme a model name, engine specs, years\\nof production, where this car is made, history, or whatever info you\\nhave on this funky looking car, please e-mail.', 'label': 7, 'label_text': 'rec.autos'}\n",
      "{'text': \"A fair number of brave souls who upgraded their SI clock oscillator have\\nshared their experiences for this poll. Please send a brief message detailing\\nyour experiences with the procedure. Top speed attained, CPU rated speed,\\nadd on cards and adapters, heat sinks, hour of usage per day, floppy disk\\nfunctionality with 800 and 1.4 m floppies are especially requested.\\n\\nI will be summarizing in the next two days, so please add to the network\\nknowledge base if you have done the clock upgrade and haven't answered this\\npoll. Thanks.\", 'label': 4, 'label_text': 'comp.sys.mac.hardware'}\n",
      "{'text': 'well folks, my mac plus finally gave up the ghost this weekend after\\nstarting life as a 512k way back in 1985.  sooo, i\\'m in the market for a\\nnew machine a bit sooner than i intended to be...\\n\\ni\\'m looking into picking up a powerbook 160 or maybe 180 and have a bunch\\nof questions that (hopefully) somebody can answer:\\n\\n* does anybody know any dirt on when the next round of powerbook\\nintroductions are expected?  i\\'d heard the 185c was supposed to make an\\nappearence \"this summer\" but haven\\'t heard anymore on it - and since i\\ndon\\'t have access to macleak, i was wondering if anybody out there had\\nmore info...\\n\\n* has anybody heard rumors about price drops to the powerbook line like the\\nones the duo\\'s just went through recently?\\n\\n* what\\'s the impression of the display on the 180?  i could probably swing\\na 180 if i got the 80Mb disk rather than the 120, but i don\\'t really have\\na feel for how much \"better\" the display is (yea, it looks great in the\\nstore, but is that all \"wow\" or is it really that good?).  could i solicit\\nsome opinions of people who use the 160 and 180 day-to-day on if its worth\\ntaking the disk size and money hit to get the active display?  (i realize\\nthis is a real subjective question, but i\\'ve only played around with the\\nmachines in a computer store breifly and figured the opinions of somebody\\nwho actually uses the machine daily might prove helpful).\\n\\n* how well does hellcats perform?  ;)\\n\\nthanks a bunch in advance for any info - if you could email, i\\'ll post a\\nsummary (news reading time is at a premium with finals just around the\\ncorner... :( )\\n--\\nTom Willis  \\\\  twillis@ecn.purdue.edu    \\\\    Purdue Electrical Engineering', 'label': 4, 'label_text': 'comp.sys.mac.hardware'}\n"
     ]
    }
   ],
   "source": [
    "response = client.search(index=index_name, size=3)\n",
    "for hit in response[\"hits\"][\"hits\"]:\n",
    "    print(hit['_source'])"
   ]
  },
  {
   "cell_type": "markdown",
   "metadata": {},
   "source": [
    "We will take the first entry as our query - taking the text as our \"more like this\" field, and saving the initial label to see how many similar responses that we get back will have the same category"
   ]
  },
  {
   "cell_type": "code",
   "execution_count": 59,
   "metadata": {},
   "outputs": [
    {
     "name": "stdout",
     "output_type": "stream",
     "text": [
      "I was wondering if anyone out there could enlighten me on this car I saw\n",
      "the other day. It was a 2-door sports car, looked to be from the late 60s/\n",
      "early 70s. It was called a Bricklin. The doors were really small. In addition,\n",
      "the front bumper was separate from the rest of the body. This is \n",
      "all I know. If anyone can tellme a model name, engine specs, years\n",
      "of production, where this car is made, history, or whatever info you\n",
      "have on this funky looking car, please e-mail.\n",
      "rec.autos\n"
     ]
    }
   ],
   "source": [
    "example = response[\"hits\"][\"hits\"][0][\"_source\"]\n",
    "print(example[\"text\"])\n",
    "print(example[\"label_text\"])"
   ]
  },
  {
   "cell_type": "code",
   "execution_count": 60,
   "metadata": {},
   "outputs": [],
   "source": [
    "query = {\n",
    "    \"more_like_this\":{\n",
    "        \"fields\":[\n",
    "            \"text\",\n",
    "            \"label_text\"\n",
    "        ],\n",
    "        \"like\":example[\"text\"],\n",
    "        \"min_term_freq\":1,\n",
    "        \"max_query_terms\":20\n",
    "   }\n",
    "}"
   ]
  },
  {
   "cell_type": "code",
   "execution_count": 73,
   "metadata": {},
   "outputs": [
    {
     "name": "stdout",
     "output_type": "stream",
     "text": [
      "rec.autos\n",
      "rec.autos\n",
      "rec.autos\n",
      "misc.forsale\n",
      "rec.autos\n",
      "rec.autos\n",
      "rec.autos\n",
      "rec.autos\n",
      "rec.autos\n",
      "rec.motorcycles\n"
     ]
    }
   ],
   "source": [
    "response = client.search(index=index_name, query=query)\n",
    "for hit in response[\"hits\"][\"hits\"]:\n",
    "    print(hit['_source'][\"label_text\"])"
   ]
  },
  {
   "cell_type": "markdown",
   "metadata": {},
   "source": [
    "Awesome! looks like most returned articles are from the same category of Auto Recommendatoins. We can further run some more code to pick the \"correct\" label via more statistical analysis:"
   ]
  },
  {
   "cell_type": "code",
   "execution_count": 74,
   "metadata": {},
   "outputs": [],
   "source": [
    "from operator import itemgetter\n",
    "def get_best_category(response):\n",
    "    categories = {}\n",
    "    for hit in response['hits']['hits']:\n",
    "        score = hit['_score']\n",
    "        category = hit['_source'][\"label_text\"]\n",
    "        if category not in categories:\n",
    "            categories[category] = score\n",
    "        else:\n",
    "            categories[category] += score\n",
    "    if len(categories) > 0:\n",
    "        sortedCategories = sorted(categories.items(), key=itemgetter(1), reverse=True)\n",
    "        category = sortedCategories[0][0]\n",
    "    return category"
   ]
  },
  {
   "cell_type": "code",
   "execution_count": 75,
   "metadata": {},
   "outputs": [
    {
     "data": {
      "text/plain": [
       "'rec.autos'"
      ]
     },
     "execution_count": 75,
     "metadata": {},
     "output_type": "execute_result"
    }
   ],
   "source": [
    "get_best_category(response)"
   ]
  }
 ],
 "metadata": {
  "kernelspec": {
   "display_name": ".venv",
   "language": "python",
   "name": "python3"
  },
  "language_info": {
   "codemirror_mode": {
    "name": "ipython",
    "version": 3
   },
   "file_extension": ".py",
   "mimetype": "text/x-python",
   "name": "python",
   "nbconvert_exporter": "python",
   "pygments_lexer": "ipython3",
   "version": "3.9.6"
  },
  "orig_nbformat": 4
 },
 "nbformat": 4,
 "nbformat_minor": 2
}
