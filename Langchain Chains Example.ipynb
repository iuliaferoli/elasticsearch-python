{
 "cells": [
  {
   "cell_type": "code",
   "execution_count": null,
   "metadata": {},
   "outputs": [],
   "source": [
    "import pandas as pd  \n",
    "from getpass import getpass  \n",
    "from elasticsearch import Elasticsearch, helpers \n",
    "from elasticsearch.client import MlClient\n",
    "from langchain_community.vectorstores.elasticsearch import ElasticsearchStore"
   ]
  },
  {
   "cell_type": "code",
   "execution_count": 2,
   "metadata": {},
   "outputs": [],
   "source": [
    "! pip install --upgrade --quiet  elasticsearch langchain-openai tiktoken langchain"
   ]
  },
  {
   "cell_type": "code",
   "execution_count": null,
   "metadata": {},
   "outputs": [],
   "source": [
    "! pip install -r requirements.txt"
   ]
  },
  {
   "cell_type": "code",
   "execution_count": 4,
   "metadata": {},
   "outputs": [],
   "source": [
    "# Prompt the user to enter their Elastic Cloud ID and API Key securely\n",
    "ELASTIC_CLOUD_ID = getpass(\"Elastic Cloud ID: \")\n",
    "ELASTIC_API_KEY = getpass(\"Elastic API Key: \")\n",
    "\n",
    "# Create an Elasticsearch client using the provided credentials\n",
    "es = Elasticsearch(\n",
    "    cloud_id=ELASTIC_CLOUD_ID,  # cloud id can be found under deployment management\n",
    "    api_key=ELASTIC_API_KEY, # your username and password for connecting to elastic, found under Deplouments - Security\n",
    ")"
   ]
  },
  {
   "cell_type": "code",
   "execution_count": 5,
   "metadata": {},
   "outputs": [
    {
     "name": "stderr",
     "output_type": "stream",
     "text": [
      "/Users/iulia/python/cheat sheet/elasticsearch-python/.venv/lib/python3.9/site-packages/tqdm/auto.py:21: TqdmWarning: IProgress not found. Please update jupyter and ipywidgets. See https://ipywidgets.readthedocs.io/en/stable/user_install.html\n",
      "  from .autonotebook import tqdm as notebook_tqdm\n"
     ]
    }
   ],
   "source": [
    "from datasets import load_dataset\n",
    "\n",
    "dataset = load_dataset(\"imdb\", split=[\"train\"])\n",
    "dataset = dataset[0]"
   ]
  },
  {
   "cell_type": "code",
   "execution_count": 32,
   "metadata": {},
   "outputs": [],
   "source": [
    "index_name = \"imdb\"\n",
    "\n",
    "# Create the Elasticsearch index with the specified name\n",
    "es.indices.create(index=index_name)\n",
    "\n",
    "# Define a function to convert DataFrame rows to Elasticsearch documents\n",
    "def df_to_doc(dataset, name_of_index):\n",
    "    for document in dataset:\n",
    "        yield dict(_index=name_of_index, _source=document)\n",
    "\n",
    "# Use the Elasticsearch helpers.bulk() method to index the DataFrame data into Elasticsearch\n",
    "load = helpers.bulk(es, df_to_doc(dataset, index_name))"
   ]
  },
  {
   "cell_type": "code",
   "execution_count": 8,
   "metadata": {},
   "outputs": [
    {
     "name": "stdout",
     "output_type": "stream",
     "text": [
      "We get back 10000 results, here are the top ones:\n",
      "I was really disappointed with this film. The first Waters movie I saw was Serial Mom and I loved it. Then I saw Pecker and I loved it. Then I watched Polyester and really sort of hated it. The only thing I liked about that movie was DIVINE. She/He had a hell of a lot of talent. I was truly surprised. As a whole, I wouldn't recommend this film...\n",
      "I remember I loved this movie when it came out. I was 12 years old, had a Commodore 64 and loved to play Rambo on it. I was therefore really thrilled when I got to buy this movie really cheap. I put it in my VCR and started up: Man this movie is really bad! Sylvester Stallone says like 3 words in the entire movie (except for that awful sentimental speech at the end), and has the same expression on his face all the way. And that stupid love thing in the middle, it's just so amazingly predictable. I just ended up fast forwarding the entire thing and went to exchange the movie for something else.\n",
      "OK heres what I say: <br /><br />The movie was excellent. I am a huge Nancy fan and I have read all 1-56 original books and I went on to read more. I am now on 96. Beware of villains giving this movie a lower grade than it should have. All clues point to a wonderful movie! I loved the whole thing. So what Nancy is in current time. She is still old fashioned like she is in the books! People who haven't read more than 5 books are complaining about the view of Nancy. I have read all of them and I think Emma is perfect and that Nancy was perfect. I found parts of the movie spooky. I loved the exciting car chases and get aways. I loved the clues. I solved the mystery myself! It was really wonderful. I suggest you go see it since people who have been complaining know nothing of A what a good movie is and B about Nancy Drew. Go see it. It may not be Oscar worthy but its really a good movie.\n",
      "Running out of films to rent, I picked up Freebird. I struggled through the first third of the movie wondering if the rest would be a waste to see. Fortunately, it really warmed up, and I loved the movie quite a bit. The second half of the movie had me grinning and laughing the entire time. Thankfully, although there were bits of CGI included, they were not overdone or prevalent.<br /><br />I would have to say, though - the actors all have heavy European accents, so be warned if you have trouble understanding those voices or their cultural humor.<br /><br />I really loved this movie, and will have to order myself a copy for my own collection.\n",
      "well, i said it all in the summary, i simpley adore the movie and the cast...i would give each actor an Oscar...great, great movie...i'm 25 now and i watched it 4 times in different periods and i always think i won't cry and i always do, about 2 or 3 times...;) meryl s. was absolutely brilliant, jeremy irons also..just brilliant...i wish the movie received more awards... i really don't know anybody who watched it and didn't loved it... also, glenn close was fantastic... the story was beautiful and sad at the same time... i loved the fact that despite everything clara and esteban loved each other so much, and how blanca was close to her parents...\n",
      "We loved the movie. I am a mother to two little men. I love having a movie I can watch with them where men have integrity and character. Moveis where money is not the most important thing. And family's are forever and love means more then words. <br /><br />I do wish we saw more of the Davis family. But over all I loved it left me with the same feeling the others did \"please don't be over\". We both wish actors would not change.The new actors were good replacement tho.<br /><br />My 9 year old son loved this movie too. asked me to go buy them all. He is a movie critic so for him to say this tells me something. Family should all see this move buy it for friends . Help bring back a time of values. We will be Reading the books now that we are hooked. really hope to see more. Be Blessed happy moving\n",
      "I thought this movie was hysterical. I have watched it many times and recommend it highly. Mel Brooks, was excellent. The cast was fantastic..I don't understand how this movie gets a 2 out of 5 rating. I loved it.. I have seen other movies of his and they were also funny but this one really stick out in my mind because of the humor.. His I just can't say enough about this movie. I look for it to be on periodically but it never on enough for me. The people playing the homeless people were by comparison up to the funniest standards also. Please put this movie on more often. I can't see it enough..Leslie Ann Warren also was another favorite of mine, ever since Cinderella. I always thought that she wasn't really funny but loved her acting. In this movie she was very funny..and her and Mel did a great job together. They should put more of his movies on TV.\n",
      "I'm probably one of the biggest Nancy Drew fans out there. I've read every book three times over and I've played a lot of the Nancy drew games. I Loved this movie. It kept you entertained the whole time you watched it. I went with about 10 of my friends and everyone LOVED it. There were three woman sitting behind us who appeared to be in their late 30's to early 40's and I asked them how they liked it, they said they loved it! So you see it will be an entertainment to all ages. You just have to give it a chance. And it teaches a lesson too, just be yourself even if everyone around you is exactly alike. So overall, this move was great. I'm going to see it a second time now! So stop bashing it please. Its a really good movie!\n",
      "I absolutely LOVED this movie when I was a kid. I cried every time I watched it. It wasn't weird to me. I totally identified with the characters. I would love to see it again (and hope I wont be disappointed!). Pufnstuf rocks!!!! I was really drawn in to the fantasy world. And to me the movie was loooong. I wonder if I ever saw the series and have confused them? The acting I thought was strong. I loved Jack Wilde. He was so dreamy to an 10 year old (when I first saw the movie, not in 1970. I can still remember the characters vividly. The flute was totally believable and I can still 'feel' the evil woods. Witchy poo was scary - I wouldn't want to cross her path.\n",
      "Real cool, smart movie. I loved Sheedy's colors, especially the purple car. Alice Drummond is Wise And Wonderful as Stella. I liked Sheedy's reference to how her face had gotten fatter. The roadside dance scene is brilliant. Really liked this one.\n"
     ]
    }
   ],
   "source": [
    "query={\n",
    "        \"match\": {\n",
    "            \"text\": \"i really loved this movie\"\n",
    "        }\n",
    "    }\n",
    "\n",
    "response = es.search(index=index_name, query=query)\n",
    "\n",
    "print(\"We get back {total} results, here are the top ones:\".format(total=response[\"hits\"]['total']['value']))\n",
    "for hit in response[\"hits\"][\"hits\"]:\n",
    "    print(hit['_source']['text'])"
   ]
  },
  {
   "cell_type": "code",
   "execution_count": 36,
   "metadata": {},
   "outputs": [
    {
     "ename": "ConflictError",
     "evalue": "ConflictError(409, 'status_exception', 'Trained model deployment [.elser_model_1] is not allocated to any nodes')",
     "output_type": "error",
     "traceback": [
      "\u001b[0;31m---------------------------------------------------------------------------\u001b[0m",
      "\u001b[0;31mConflictError\u001b[0m                             Traceback (most recent call last)",
      "Cell \u001b[0;32mIn[36], line 1\u001b[0m\n\u001b[0;32m----> 1\u001b[0m result \u001b[39m=\u001b[39m es\u001b[39m.\u001b[39;49msearch(\n\u001b[1;32m      2\u001b[0m     index\u001b[39m=\u001b[39;49mindex_name, \n\u001b[1;32m      3\u001b[0m     size\u001b[39m=\u001b[39;49m\u001b[39m5\u001b[39;49m,\n\u001b[1;32m      4\u001b[0m     query\u001b[39m=\u001b[39;49m{\n\u001b[1;32m      5\u001b[0m         \u001b[39m\"\u001b[39;49m\u001b[39mtext_expansion\u001b[39;49m\u001b[39m\"\u001b[39;49m: {\n\u001b[1;32m      6\u001b[0m             \u001b[39m\"\u001b[39;49m\u001b[39mml.tokens\u001b[39;49m\u001b[39m\"\u001b[39;49m: {\n\u001b[1;32m      7\u001b[0m                 \u001b[39m\"\u001b[39;49m\u001b[39mmodel_id\u001b[39;49m\u001b[39m\"\u001b[39;49m:\u001b[39m\"\u001b[39;49m\u001b[39m.elser_model_1\u001b[39;49m\u001b[39m\"\u001b[39;49m,\n\u001b[1;32m      8\u001b[0m                 \u001b[39m\"\u001b[39;49m\u001b[39mmodel_text\u001b[39;49m\u001b[39m\"\u001b[39;49m:\u001b[39m\"\u001b[39;49m\u001b[39mI really loved this movie\u001b[39;49m\u001b[39m\"\u001b[39;49m\n\u001b[1;32m      9\u001b[0m             }\n\u001b[1;32m     10\u001b[0m         }\n\u001b[1;32m     11\u001b[0m     }\n\u001b[1;32m     12\u001b[0m )\n\u001b[1;32m     14\u001b[0m \u001b[39mfor\u001b[39;00m element \u001b[39min\u001b[39;00m result[\u001b[39m\"\u001b[39m\u001b[39mhits\u001b[39m\u001b[39m\"\u001b[39m][\u001b[39m\"\u001b[39m\u001b[39mhits\u001b[39m\u001b[39m\"\u001b[39m]:\n\u001b[1;32m     15\u001b[0m     \u001b[39mprint\u001b[39m(\u001b[39m\"\u001b[39m\u001b[39m{}\u001b[39;00m\u001b[39m: \u001b[39m\u001b[39m{}\u001b[39;00m\u001b[39m, score \u001b[39m\u001b[39m{}\u001b[39;00m\u001b[39m\"\u001b[39m\u001b[39m.\u001b[39mformat(element[\u001b[39m\"\u001b[39m\u001b[39m_source\u001b[39m\u001b[39m\"\u001b[39m][\u001b[39m\"\u001b[39m\u001b[39mtext\u001b[39m\u001b[39m\"\u001b[39m], element[\u001b[39m\"\u001b[39m\u001b[39m_score\u001b[39m\u001b[39m\"\u001b[39m]))\n",
      "File \u001b[0;32m~/python/cheat sheet/elasticsearch-python/.venv/lib/python3.9/site-packages/elasticsearch/_sync/client/utils.py:446\u001b[0m, in \u001b[0;36m_rewrite_parameters.<locals>.wrapper.<locals>.wrapped\u001b[0;34m(*args, **kwargs)\u001b[0m\n\u001b[1;32m    443\u001b[0m         \u001b[39mexcept\u001b[39;00m \u001b[39mKeyError\u001b[39;00m:\n\u001b[1;32m    444\u001b[0m             \u001b[39mpass\u001b[39;00m\n\u001b[0;32m--> 446\u001b[0m \u001b[39mreturn\u001b[39;00m api(\u001b[39m*\u001b[39;49margs, \u001b[39m*\u001b[39;49m\u001b[39m*\u001b[39;49mkwargs)\n",
      "File \u001b[0;32m~/python/cheat sheet/elasticsearch-python/.venv/lib/python3.9/site-packages/elasticsearch/_sync/client/__init__.py:3836\u001b[0m, in \u001b[0;36mElasticsearch.search\u001b[0;34m(self, index, aggregations, aggs, allow_no_indices, allow_partial_search_results, analyze_wildcard, analyzer, batched_reduce_size, ccs_minimize_roundtrips, collapse, default_operator, df, docvalue_fields, error_trace, expand_wildcards, explain, ext, fields, filter_path, from_, highlight, human, ignore_throttled, ignore_unavailable, indices_boost, knn, lenient, max_concurrent_shard_requests, min_compatible_shard_node, min_score, pit, post_filter, pre_filter_shard_size, preference, pretty, profile, q, query, rank, request_cache, rescore, rest_total_hits_as_int, routing, runtime_mappings, script_fields, scroll, search_after, search_type, seq_no_primary_term, size, slice, sort, source, source_excludes, source_includes, stats, stored_fields, suggest, suggest_field, suggest_mode, suggest_size, suggest_text, terminate_after, timeout, track_scores, track_total_hits, typed_keys, version, body)\u001b[0m\n\u001b[1;32m   3834\u001b[0m \u001b[39mif\u001b[39;00m __body \u001b[39mis\u001b[39;00m \u001b[39mnot\u001b[39;00m \u001b[39mNone\u001b[39;00m:\n\u001b[1;32m   3835\u001b[0m     __headers[\u001b[39m\"\u001b[39m\u001b[39mcontent-type\u001b[39m\u001b[39m\"\u001b[39m] \u001b[39m=\u001b[39m \u001b[39m\"\u001b[39m\u001b[39mapplication/json\u001b[39m\u001b[39m\"\u001b[39m\n\u001b[0;32m-> 3836\u001b[0m \u001b[39mreturn\u001b[39;00m \u001b[39mself\u001b[39;49m\u001b[39m.\u001b[39;49mperform_request(  \u001b[39m# type: ignore[return-value]\u001b[39;49;00m\n\u001b[1;32m   3837\u001b[0m     \u001b[39m\"\u001b[39;49m\u001b[39mPOST\u001b[39;49m\u001b[39m\"\u001b[39;49m, __path, params\u001b[39m=\u001b[39;49m__query, headers\u001b[39m=\u001b[39;49m__headers, body\u001b[39m=\u001b[39;49m__body\n\u001b[1;32m   3838\u001b[0m )\n",
      "File \u001b[0;32m~/python/cheat sheet/elasticsearch-python/.venv/lib/python3.9/site-packages/elasticsearch/_sync/client/_base.py:320\u001b[0m, in \u001b[0;36mBaseClient.perform_request\u001b[0;34m(self, method, path, params, headers, body)\u001b[0m\n\u001b[1;32m    317\u001b[0m         \u001b[39mexcept\u001b[39;00m (\u001b[39mValueError\u001b[39;00m, \u001b[39mKeyError\u001b[39;00m, \u001b[39mTypeError\u001b[39;00m):\n\u001b[1;32m    318\u001b[0m             \u001b[39mpass\u001b[39;00m\n\u001b[0;32m--> 320\u001b[0m     \u001b[39mraise\u001b[39;00m HTTP_EXCEPTIONS\u001b[39m.\u001b[39mget(meta\u001b[39m.\u001b[39mstatus, ApiError)(\n\u001b[1;32m    321\u001b[0m         message\u001b[39m=\u001b[39mmessage, meta\u001b[39m=\u001b[39mmeta, body\u001b[39m=\u001b[39mresp_body\n\u001b[1;32m    322\u001b[0m     )\n\u001b[1;32m    324\u001b[0m \u001b[39m# 'X-Elastic-Product: Elasticsearch' should be on every 2XX response.\u001b[39;00m\n\u001b[1;32m    325\u001b[0m \u001b[39mif\u001b[39;00m \u001b[39mnot\u001b[39;00m \u001b[39mself\u001b[39m\u001b[39m.\u001b[39m_verified_elasticsearch:\n\u001b[1;32m    326\u001b[0m     \u001b[39m# If the header is set we mark the server as verified.\u001b[39;00m\n",
      "\u001b[0;31mConflictError\u001b[0m: ConflictError(409, 'status_exception', 'Trained model deployment [.elser_model_1] is not allocated to any nodes')"
     ]
    }
   ],
   "source": [
    "query={\n",
    "    \"text_expansion\": {\n",
    "        \"ml.tokens\": {\n",
    "            \"model_id\":\".elser_model_1\",\n",
    "            \"model_text\":\"I really loved this movie\"\n",
    "        }\n",
    "    }\n",
    "}\n",
    "\n",
    "result = es.search(index=index_name, query=query)\n",
    "    \n",
    "for element in result[\"hits\"][\"hits\"]:\n",
    "    print(\"{}: {}, score {}\".format(element[\"_source\"][\"text\"], element[\"_score\"]))"
   ]
  },
  {
   "cell_type": "markdown",
   "metadata": {},
   "source": [
    "### Three options:"
   ]
  },
  {
   "cell_type": "code",
   "execution_count": null,
   "metadata": {},
   "outputs": [],
   "source": [
    "# + generating embeddings within Elatic w/ inference runs\n",
    "model_id = \"sentence-transformers__msmarco-minilm-l-12-v3\"\n",
    "\n",
    "db = ElasticsearchStore(\n",
    "    es_cloud_id=ELASTIC_CLOUD_ID,\n",
    "    es_api_key=ELASTIC_API_KEY,\n",
    "    index_name=index_name,\n",
    "    \n",
    "    query_field=\"text_field\",\n",
    "    vector_query_field=\"vector_query_field.predicted_value\",\n",
    "    strategy=ElasticsearchStore.ApproxRetrievalStrategy(\n",
    "            query_model_id=model_id\n",
    "    ),\n",
    ")"
   ]
  },
  {
   "cell_type": "code",
   "execution_count": null,
   "metadata": {},
   "outputs": [],
   "source": [
    "embeddings = OpenAIEmbeddings()\n",
    "\n",
    "# with external embeddings\n",
    "db = ElasticsearchStore(\n",
    "    es_cloud_id=ELASTIC_CLOUD_ID,\n",
    "    es_api_key=ELASTIC_API_KEY,\n",
    "    index_name=index_name,\n",
    "\n",
    "    embeddings = embeddings,\n",
    ")"
   ]
  },
  {
   "cell_type": "code",
   "execution_count": 7,
   "metadata": {},
   "outputs": [],
   "source": [
    "# with ELSER\n",
    "db = ElasticsearchStore(\n",
    "    es_cloud_id=ELASTIC_CLOUD_ID,\n",
    "    es_api_key=ELASTIC_API_KEY,\n",
    "    index_name=index_name,\n",
    "    \n",
    "    strategy=ElasticsearchStore.SparseVectorRetrievalStrategy(),\n",
    ")\n"
   ]
  },
  {
   "cell_type": "code",
   "execution_count": 9,
   "metadata": {},
   "outputs": [],
   "source": [
    "# with no embeddings\n",
    "db = ElasticsearchStore(\n",
    "    es_cloud_id=ELASTIC_CLOUD_ID,\n",
    "    es_api_key=ELASTIC_API_KEY,\n",
    "    index_name=index_name,\n",
    "    )"
   ]
  },
  {
   "cell_type": "code",
   "execution_count": null,
   "metadata": {},
   "outputs": [],
   "source": [
    "db.client.indices.refresh(index=index_name)"
   ]
  },
  {
   "cell_type": "code",
   "execution_count": null,
   "metadata": {},
   "outputs": [],
   "source": [
    "from langchain.text_splitter import RecursiveCharacterTextSplitter\n",
    "from datasets import load_dataset\n",
    "\n",
    "dataset = load_dataset(\"reuters21578\", 'ModHayes', split=\"train[:1%]\")\n",
    "\n",
    "metadata = []\n",
    "content = []\n",
    "chunk_size = 300\n",
    "chunk_overlap_part = 2\n",
    "\n",
    "for doc in dataset:\n",
    "    content.append(doc[\"text\"])\n",
    "    metadata.append({\n",
    "        \"name\": doc[\"title\"]\n",
    "    })\n",
    "\n",
    "#docs = split_by_chunk(documents=content, chunk=chunk_size, metadata = metadata)\n",
    "text_splitter = RecursiveCharacterTextSplitter(\n",
    "    chunk_size=chunk_size,\n",
    "    chunk_overlap=chunk_size/chunk_overlap_part,\n",
    "    length_function=len,\n",
    "    is_separator_regex=False,\n",
    "    keep_separator=False,\n",
    "    separators = [\"     \", \". \", \" \", \"\"]\n",
    ")\n",
    "\n",
    "docs = text_splitter.create_documents(content, metadata)\n"
   ]
  },
  {
   "cell_type": "code",
   "execution_count": null,
   "metadata": {},
   "outputs": [],
   "source": [
    "db.client.ingest.put_pipeline(\n",
    "    id=\"embeddings\",\n",
    "    processors=[\n",
    "        {\n",
    "            \"inference\": {\n",
    "                \"model_id\": model_id,\n",
    "                \"field_map\": {\"_ingest._value.page_content\": \"text_field\"},\n",
    "                \"target_field\": \"vector_query_field\",\n",
    "            }\n",
    "        }\n",
    "    ],\n",
    ")\n",
    "\n",
    "db.client.indices.create(\n",
    "    index=index_name,\n",
    "    mappings={\n",
    "        \"dynamic\": \"true\",\n",
    "        \"properties\": {\n",
    "            \"vector_query_field\": {\n",
    "                \"properties\": {\n",
    "                    \"predicted_value\": {\n",
    "                        \"type\": \"dense_vector\",\n",
    "                        \"dims\": 384,\n",
    "                        \"index\": True,\n",
    "                        \"similarity\": \"cosine\",\n",
    "                    }\n",
    "                }\n",
    "            },\n",
    "            \"name\" :{\"type\": \"text\"}, \n",
    "        }\n",
    "    },\n",
    "    settings={\"index\": {\"default_pipeline\": \"embeddings\", \"refresh_interval\" : \"1000s\"}},\n",
    ")"
   ]
  },
  {
   "cell_type": "code",
   "execution_count": null,
   "metadata": {},
   "outputs": [],
   "source": [
    "db.from_documents(\n",
    "    docs,\n",
    "    es_cloud_id=ELASTIC_CLOUD_ID,\n",
    "    es_api_key=ELASTIC_API_KEY,\n",
    "    index_name=index_name,\n",
    "    query_field=\"text_field\",\n",
    "    vector_query_field=\"vector_query_field.predicted_value\",\n",
    "    strategy=ElasticsearchStore.ApproxRetrievalStrategy(\n",
    "        query_model_id=model_id\n",
    "    ),\n",
    ")"
   ]
  }
 ],
 "metadata": {
  "kernelspec": {
   "display_name": ".venv",
   "language": "python",
   "name": "python3"
  },
  "language_info": {
   "codemirror_mode": {
    "name": "ipython",
    "version": 3
   },
   "file_extension": ".py",
   "mimetype": "text/x-python",
   "name": "python",
   "nbconvert_exporter": "python",
   "pygments_lexer": "ipython3",
   "version": "3.9.6"
  },
  "orig_nbformat": 4
 },
 "nbformat": 4,
 "nbformat_minor": 2
}
