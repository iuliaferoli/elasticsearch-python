{
 "cells": [
  {
   "cell_type": "markdown",
   "metadata": {},
   "source": [
    "The Python client equivalent of the [Index and Document APIs example](/Index%20and%20Document%20APIs.md)"
   ]
  },
  {
   "cell_type": "code",
   "execution_count": null,
   "metadata": {},
   "outputs": [],
   "source": [
    "from getpass import getpass  \n",
    "from elasticsearch import Elasticsearch, helpers\n",
    "\n",
    "# Prompt the user to enter their Elastic Cloud ID and API Key securely\n",
    "ELASTIC_CLOUD_ID = getpass(\"Elastic Cloud ID: \")\n",
    "ELASTIC_API_KEY = getpass(\"Elastic API Key: \")\n",
    "\n",
    "# Create an Elasticsearch client using the provided credentials\n",
    "es = Elasticsearch(\n",
    "    cloud_id=ELASTIC_CLOUD_ID,  # cloud id can be found under deployment management\n",
    "    api_key=ELASTIC_API_KEY, # your username and password for connecting to elastic, found under Deplouments - Security\n",
    ")"
   ]
  },
  {
   "cell_type": "code",
   "execution_count": null,
   "metadata": {},
   "outputs": [],
   "source": [
    "index_name = \"weather-data\"\n",
    "\n",
    "es.indices.create(index=index_name)\n",
    "\n",
    "es.index(\n",
    "    index=index_name,\n",
    "    id=0,\n",
    "    document={\n",
    "        \"date\": \"22-03-2024\",\n",
    "        \"temperature\": 9,\n",
    "        \"location\": { \n",
    "            \"type\": \"Point\",\n",
    "            \"coordinates\": [52.36, 4.90]\n",
    "        },\n",
    "        \"city\": \"Amsterdam\",\n",
    "        \"description\": \"overcast and a little rainy, just like always\"\n",
    "    },\n",
    ")\n",
    "\n",
    "es.update(index=index_name, id = 1, body={\"doc\":{\"description\" : 'oh wow the Sun just came out!'}})\n",
    "\n",
    "\n",
    "date = [\n",
    "    {\"date\": \"23-03-2024\", \"description\": \"today it was actually sunny!\"},\n",
    "    {\"date\": \"20-03-2024\", \"description\": \"lots of rain. what a surprise\"},\n",
    "    {\"date\": \"19-03-2024\", \"description\": \"cloudy. dark. sad.\"},\n",
    "    {\"date\": \"18-03-2024\", \"description\": \"oh look at that, rainy again.\"},\n",
    "    {\"date\": \"17-03-2024\", \"description\": \"just bleh.\"},\n",
    "    {\"date\": \"17-03-2024\", \"description\": \"we got sun for about 2 minutes!\"}\n",
    "]\n",
    "\n",
    "def generate_docs(data, index_name):\n",
    "    for element in data:\n",
    "        element.update({\"_index\": index_name})\n",
    "        yield element\n",
    "\n",
    "load = helpers.bulk(es, generate_docs(dataset[\"train\"], index_name))\n",
    "\n"
   ]
  },
  {
   "cell_type": "code",
   "execution_count": null,
   "metadata": {},
   "outputs": [],
   "source": []
  },
  {
   "cell_type": "code",
   "execution_count": null,
   "metadata": {},
   "outputs": [],
   "source": [
    "query={\n",
    "    \"match\": {\n",
    "        \"foo\": \"barr\"\n",
    "    }\n",
    "}\n",
    "\n",
    "response = es.search(index=index_name, query=query)\n",
    "for hit in response[\"hits\"][\"hits\"]:\n",
    "    print(hit['_source'])"
   ]
  }
 ],
 "metadata": {
  "language_info": {
   "name": "python"
  },
  "orig_nbformat": 4
 },
 "nbformat": 4,
 "nbformat_minor": 2
}
