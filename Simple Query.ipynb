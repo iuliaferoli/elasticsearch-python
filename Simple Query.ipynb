{
 "cells": [
  {
   "cell_type": "markdown",
   "metadata": {},
   "source": [
    "### Notebook example with python + elastic"
   ]
  },
  {
   "cell_type": "markdown",
   "metadata": {},
   "source": [
    "\n",
    "##### First we install and import necessary libraries and instatiate a client to connect to our Elastic instance\n"
   ]
  },
  {
   "cell_type": "code",
   "execution_count": null,
   "metadata": {},
   "outputs": [],
   "source": [
    "! pip install pandas elasticsearch"
   ]
  },
  {
   "cell_type": "code",
   "execution_count": 8,
   "metadata": {},
   "outputs": [],
   "source": [
    "# Import necessary libraries\n",
    "import pandas as pd  # For data manipulation with DataFrames\n",
    "from getpass import getpass  # For securely getting user input (passwords)\n",
    "from elasticsearch import Elasticsearch, helpers  # For interacting with Elasticsearch"
   ]
  },
  {
   "cell_type": "code",
   "execution_count": 17,
   "metadata": {},
   "outputs": [],
   "source": [
    "#Connect to the elastic cloud server\n",
    "ELASTIC_CLOUD_ID = getpass(\"Elastic Cloud ID: \")\n",
    "ELASTIC_API_KEY = getpass(\"Elastic API Key: \")\n",
    "\n",
    "# Create an Elasticsearch client using the provided credentials\n",
    "es = Elasticsearch(\n",
    "    cloud_id=ELASTIC_CLOUD_ID,  # cloud id can be found under deployment management\n",
    "    api_key=ELASTIC_API_KEY, # your username and password for connecting to elastic, found under Deplouments - Security\n",
    ")"
   ]
  },
  {
   "cell_type": "markdown",
   "metadata": {},
   "source": [
    "##### Getting the data and creating the index"
   ]
  },
  {
   "cell_type": "code",
   "execution_count": 14,
   "metadata": {},
   "outputs": [],
   "source": [
    "# Read data from a CSV file into a DataFrame\n",
    "# The Repair Cafe International dataset can be downloaded at https://openrepair.org/open-data/downloads/\n",
    "repair_data_df = pd.read_csv('OpenRepairData_v0.3_RepairCafeInt_202309.csv')\n",
    "\n",
    "# FiYll missing values in the DataFrame with 0\n",
    "repair_data_df = repair_data_df.fillna(0)"
   ]
  },
  {
   "cell_type": "code",
   "execution_count": 19,
   "metadata": {},
   "outputs": [
    {
     "data": {
      "text/html": [
       "<div>\n",
       "<style scoped>\n",
       "    .dataframe tbody tr th:only-of-type {\n",
       "        vertical-align: middle;\n",
       "    }\n",
       "\n",
       "    .dataframe tbody tr th {\n",
       "        vertical-align: top;\n",
       "    }\n",
       "\n",
       "    .dataframe thead th {\n",
       "        text-align: right;\n",
       "    }\n",
       "</style>\n",
       "<table border=\"1\" class=\"dataframe\">\n",
       "  <thead>\n",
       "    <tr style=\"text-align: right;\">\n",
       "      <th></th>\n",
       "      <th>id</th>\n",
       "      <th>data_provider</th>\n",
       "      <th>country</th>\n",
       "      <th>partner_product_category</th>\n",
       "      <th>product_category</th>\n",
       "      <th>product_category_id</th>\n",
       "      <th>brand</th>\n",
       "      <th>year_of_manufacture</th>\n",
       "      <th>product_age</th>\n",
       "      <th>repair_status</th>\n",
       "      <th>repair_barrier_if_end_of_life</th>\n",
       "      <th>group_identifier</th>\n",
       "      <th>event_date</th>\n",
       "      <th>problem</th>\n",
       "    </tr>\n",
       "  </thead>\n",
       "  <tbody>\n",
       "    <tr>\n",
       "      <th>0</th>\n",
       "      <td>rcint_55417</td>\n",
       "      <td>Repair Café International</td>\n",
       "      <td>GBR</td>\n",
       "      <td>Household appliances electric ~ Carpet cleaner</td>\n",
       "      <td>Small kitchen item</td>\n",
       "      <td>29</td>\n",
       "      <td>Vax</td>\n",
       "      <td>2010.0</td>\n",
       "      <td>13.0</td>\n",
       "      <td>End of life</td>\n",
       "      <td>Item too worn out</td>\n",
       "      <td>Weymouth</td>\n",
       "      <td>2023-09-09</td>\n",
       "      <td>Engine motor burnt out. Not working.</td>\n",
       "    </tr>\n",
       "    <tr>\n",
       "      <th>1</th>\n",
       "      <td>rcint_55422</td>\n",
       "      <td>Repair Café International</td>\n",
       "      <td>NLD</td>\n",
       "      <td>Tools electric ~ Motor</td>\n",
       "      <td>Power tool</td>\n",
       "      <td>24</td>\n",
       "      <td>DeWert</td>\n",
       "      <td>1994.0</td>\n",
       "      <td>29.0</td>\n",
       "      <td>Repairable</td>\n",
       "      <td>0</td>\n",
       "      <td>Capelle aan den IJssel</td>\n",
       "      <td>2023-09-28</td>\n",
       "      <td>trafo defect. werkt niet meer.  advies gegeven...</td>\n",
       "    </tr>\n",
       "    <tr>\n",
       "      <th>2</th>\n",
       "      <td>rcint_55432</td>\n",
       "      <td>Repair Café International</td>\n",
       "      <td>NLD</td>\n",
       "      <td>Household appliances electric ~ Flashlight / e...</td>\n",
       "      <td>Decorative or safety lights</td>\n",
       "      <td>3</td>\n",
       "      <td>Unknown</td>\n",
       "      <td>0.0</td>\n",
       "      <td>0.0</td>\n",
       "      <td>End of life</td>\n",
       "      <td>0</td>\n",
       "      <td>Laren (Noord-Holland)</td>\n",
       "      <td>2017-04-01</td>\n",
       "      <td>Zwak licht. Misschien te ver ontladen.   Accu ...</td>\n",
       "    </tr>\n",
       "    <tr>\n",
       "      <th>3</th>\n",
       "      <td>rcint_55433</td>\n",
       "      <td>Repair Café International</td>\n",
       "      <td>NLD</td>\n",
       "      <td>Household appliances electric ~ Lamp / lighting</td>\n",
       "      <td>Lamp</td>\n",
       "      <td>15</td>\n",
       "      <td>Unknown</td>\n",
       "      <td>0.0</td>\n",
       "      <td>0.0</td>\n",
       "      <td>End of life</td>\n",
       "      <td>0</td>\n",
       "      <td>Delft-Delfshove</td>\n",
       "      <td>2019-10-05</td>\n",
       "      <td>Nee.</td>\n",
       "    </tr>\n",
       "    <tr>\n",
       "      <th>4</th>\n",
       "      <td>rcint_55434</td>\n",
       "      <td>Repair Café International</td>\n",
       "      <td>NLD</td>\n",
       "      <td>Household appliances electric ~ Shaver / Razor</td>\n",
       "      <td>Hair &amp; beauty item</td>\n",
       "      <td>9</td>\n",
       "      <td>Philips</td>\n",
       "      <td>0.0</td>\n",
       "      <td>0.0</td>\n",
       "      <td>End of life</td>\n",
       "      <td>0</td>\n",
       "      <td>Delft</td>\n",
       "      <td>2018-09-01</td>\n",
       "      <td>plastic afgebroken. Defect.   Niet te repareren.</td>\n",
       "    </tr>\n",
       "  </tbody>\n",
       "</table>\n",
       "</div>"
      ],
      "text/plain": [
       "            id              data_provider country  \\\n",
       "0  rcint_55417  Repair Café International     GBR   \n",
       "1  rcint_55422  Repair Café International     NLD   \n",
       "2  rcint_55432  Repair Café International     NLD   \n",
       "3  rcint_55433  Repair Café International     NLD   \n",
       "4  rcint_55434  Repair Café International     NLD   \n",
       "\n",
       "                            partner_product_category  \\\n",
       "0     Household appliances electric ~ Carpet cleaner   \n",
       "1                             Tools electric ~ Motor   \n",
       "2  Household appliances electric ~ Flashlight / e...   \n",
       "3    Household appliances electric ~ Lamp / lighting   \n",
       "4     Household appliances electric ~ Shaver / Razor   \n",
       "\n",
       "              product_category  product_category_id    brand  \\\n",
       "0           Small kitchen item                   29      Vax   \n",
       "1                   Power tool                   24   DeWert   \n",
       "2  Decorative or safety lights                    3  Unknown   \n",
       "3                         Lamp                   15  Unknown   \n",
       "4           Hair & beauty item                    9  Philips   \n",
       "\n",
       "   year_of_manufacture  product_age repair_status  \\\n",
       "0               2010.0         13.0   End of life   \n",
       "1               1994.0         29.0    Repairable   \n",
       "2                  0.0          0.0   End of life   \n",
       "3                  0.0          0.0   End of life   \n",
       "4                  0.0          0.0   End of life   \n",
       "\n",
       "  repair_barrier_if_end_of_life        group_identifier  event_date  \\\n",
       "0             Item too worn out                Weymouth  2023-09-09   \n",
       "1                             0  Capelle aan den IJssel  2023-09-28   \n",
       "2                             0   Laren (Noord-Holland)  2017-04-01   \n",
       "3                             0         Delft-Delfshove  2019-10-05   \n",
       "4                             0                   Delft  2018-09-01   \n",
       "\n",
       "                                             problem  \n",
       "0               Engine motor burnt out. Not working.  \n",
       "1  trafo defect. werkt niet meer.  advies gegeven...  \n",
       "2  Zwak licht. Misschien te ver ontladen.   Accu ...  \n",
       "3                                               Nee.  \n",
       "4   plastic afgebroken. Defect.   Niet te repareren.  "
      ]
     },
     "execution_count": 19,
     "metadata": {},
     "output_type": "execute_result"
    }
   ],
   "source": [
    "repair_data_df.head()"
   ]
  },
  {
   "cell_type": "code",
   "execution_count": 18,
   "metadata": {},
   "outputs": [],
   "source": [
    "index_name = 'repair'\n",
    "\n",
    "# Create the Elasticsearch index with the specified name\n",
    "es.indices.create(index=index_name)\n",
    "\n",
    "# Define a function to convert DataFrame rows to Elasticsearch documents\n",
    "def df_to_doc(df, name_of_index):\n",
    "    for index, document in df.iterrows():\n",
    "        yield dict(_index=name_of_index, _id=f\"{document['id']}\", _source=document.to_dict())\n",
    "\n",
    "# Use the Elasticsearch helpers.bulk() method to index the DataFrame data into Elasticsearch\n",
    "load = helpers.bulk(es, df_to_doc(repair_data_df, index_name))"
   ]
  },
  {
   "cell_type": "markdown",
   "metadata": {},
   "source": [
    "##### Simple Query examples"
   ]
  },
  {
   "cell_type": "code",
   "execution_count": 25,
   "metadata": {},
   "outputs": [
    {
     "name": "stdout",
     "output_type": "stream",
     "text": [
      "We get back 19 results, here are the top ones:\n",
      "blocked engine.\n",
      "Engine malfunction. Doesn't work.\n",
      "Clock engine was stuck.\n",
      "Engine is burnt. Doesn't work.\n",
      "Engine seized. Doesn't turn over.\n",
      "Engine runs, blades don't turn.\n",
      "Engine motor burnt out. Not working.\n",
      "disconnect between engine and shaft. doesn't work.\n",
      "engine shaft off-kilter. makes friction noise.\n",
      "yes - wiring has completely corroded. problem with the engine.\n"
     ]
    }
   ],
   "source": [
    "query={\n",
    "        \"match\": {\n",
    "            \"problem\": \"engine\"\n",
    "        }\n",
    "    }\n",
    "\n",
    "#Run a simple query, for example looking for problems with the engine\n",
    "response = es.search(index=index_name, query=query)\n",
    "\n",
    "print(\"We get back {total} results, here are the top ones:\".format(total=response[\"hits\"]['total']['value']))\n",
    "for hit in response[\"hits\"][\"hits\"]:\n",
    "    print(hit['_source']['problem'])"
   ]
  }
 ],
 "metadata": {
  "kernelspec": {
   "display_name": ".venv",
   "language": "python",
   "name": "python3"
  },
  "language_info": {
   "codemirror_mode": {
    "name": "ipython",
    "version": 3
   },
   "file_extension": ".py",
   "mimetype": "text/x-python",
   "name": "python",
   "nbconvert_exporter": "python",
   "pygments_lexer": "ipython3",
   "version": "3.11.4"
  },
  "orig_nbformat": 4
 },
 "nbformat": 4,
 "nbformat_minor": 2
}
